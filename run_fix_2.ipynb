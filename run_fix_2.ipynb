{
  "cells": [
    {
      "attachments": {},
      "cell_type": "markdown",
      "metadata": {
        "colab_type": "text",
        "id": "view-in-github"
      },
      "source": [
        "<a href=\"https://colab.research.google.com/github/tttmmmyyyy/fixlang/blob/main/run_fix_2.ipynb\" target=\"_parent\"><img src=\"https://colab.research.google.com/assets/colab-badge.svg\" alt=\"Open In Colab\"/></a>"
      ]
    },
    {
      "cell_type": "code",
      "execution_count": 1,
      "metadata": {
        "colab": {
          "base_uri": "https://localhost:8080/"
        },
        "id": "vysGXxLMtoS9",
        "outputId": "3b4d13bf-093b-4039-9acf-7e689d334461"
      },
      "outputs": [
        {
          "name": "stdout",
          "output_type": "stream",
          "text": [
            "--2023-02-14 14:34:00--  https://github.com/tttmmmyyyy/fixlang_binary/raw/main/x86_64-linux-ubuntu20.04/fix\n",
            "Resolving github.com (github.com)... 140.82.114.4\n",
            "Connecting to github.com (github.com)|140.82.114.4|:443... connected.\n",
            "HTTP request sent, awaiting response... 302 Found\n",
            "Location: https://raw.githubusercontent.com/tttmmmyyyy/fixlang_binary/main/x86_64-linux-ubuntu20.04/fix [following]\n",
            "--2023-02-14 14:34:01--  https://raw.githubusercontent.com/tttmmmyyyy/fixlang_binary/main/x86_64-linux-ubuntu20.04/fix\n",
            "Resolving raw.githubusercontent.com (raw.githubusercontent.com)... 185.199.108.133, 185.199.109.133, 185.199.110.133, ...\n",
            "Connecting to raw.githubusercontent.com (raw.githubusercontent.com)|185.199.108.133|:443... connected.\n",
            "HTTP request sent, awaiting response... 200 OK\n",
            "Length: 39859312 (38M) [application/octet-stream]\n",
            "Saving to: ‘fix-prebuilt-binary’\n",
            "\n",
            "fix-prebuilt-binary 100%[===================>]  38.01M   186MB/s    in 0.2s    \n",
            "\n",
            "2023-02-14 14:34:03 (186 MB/s) - ‘fix-prebuilt-binary’ saved [39859312/39859312]\n",
            "\n",
            "The number of primes under 10^7 is 664579\n"
          ]
        }
      ],
      "source": [
        "source = r'''\n",
        "\n",
        "module Main;\n",
        "\n",
        "// Calculate a Bool array whose element is true iff idx is prime.\n",
        "is_prime : I64 -> Array Bool;\n",
        "is_prime = |n| (\n",
        "    let arr = Array::fill(n, true);\n",
        "    let arr = arr.set(0, false);\n",
        "    let arr = arr.set(1, false);\n",
        "    loop((2, arr), |(i, arr)|\n",
        "        if i*i > n { break $ arr };\n",
        "        let next_arr = (\n",
        "            if !arr.@(i) { arr };\n",
        "            loop((i+i, arr), |(q, arr)|\n",
        "                if n-1 < q { break $ arr };\n",
        "                continue $ (q+i, arr.set(q, false))\n",
        "            )\n",
        "        );\n",
        "        continue $ (i+1, next_arr)\n",
        "    )\n",
        ");\n",
        "\n",
        "// Count the number of occurrences of the value in an array.\n",
        "count : [a: Eq] a -> Array a -> I64;\n",
        "count = |elem, arr| (\n",
        "    loop((0, 0), |(i, sum)|\n",
        "        if arr.get_size == i { break $ sum };\n",
        "        let sum = sum + (if arr.@(i) == elem {1} else {0});\n",
        "        continue $ (i+1, sum)\n",
        "    )\n",
        ");\n",
        "\n",
        "main : IO ();\n",
        "main = (\n",
        "    +print(\"The number of primes under 10^7 is \");\n",
        "    println(is_prime(10000000).count(true).to_string)\n",
        ");\n",
        "'''\n",
        "\n",
        "# Run \"source\" as a fix program:\n",
        "source_file_name = 'source.fix'\n",
        "fix_binary_name = 'fix-prebuilt-binary'\n",
        "with open(source_file_name, 'w') as f:\n",
        "    f.write(source)\n",
        "\n",
        "file_list = !ls\n",
        "file_list = str(file_list)\n",
        "if fix_binary_name not in file_list:\n",
        "   !wget https://github.com/tttmmmyyyy/fixlang_binary/raw/main/x86_64-linux-ubuntu20.04/fix -O $fix_binary_name\n",
        "   !chmod u+x $fix_binary_name\n",
        "\n",
        "!./$fix_binary_name run --file $source_file_name"
      ]
    }
  ],
  "metadata": {
    "colab": {
      "include_colab_link": true,
      "provenance": []
    },
    "kernelspec": {
      "display_name": "Python 3",
      "name": "python3"
    },
    "language_info": {
      "name": "python",
      "version": "3.8.10"
    }
  },
  "nbformat": 4,
  "nbformat_minor": 0
}
